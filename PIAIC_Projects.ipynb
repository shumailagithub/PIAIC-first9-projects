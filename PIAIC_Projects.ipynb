{
  "nbformat": 4,
  "nbformat_minor": 0,
  "metadata": {
    "colab": {
      "provenance": [],
      "authorship_tag": "ABX9TyMyzi3oUBJDhrEEehdv6/WT",
      "include_colab_link": true
    },
    "kernelspec": {
      "name": "python3",
      "display_name": "Python 3"
    },
    "language_info": {
      "name": "python"
    }
  },
  "cells": [
    {
      "cell_type": "markdown",
      "metadata": {
        "id": "view-in-github",
        "colab_type": "text"
      },
      "source": [
        "<a href=\"https://colab.research.google.com/github/shumailagithub/PIAIC-first9-projects/blob/main/PIAIC_Projects.ipynb\" target=\"_parent\"><img src=\"https://colab.research.google.com/assets/colab-badge.svg\" alt=\"Open In Colab\"/></a>"
      ]
    },
    {
      "cell_type": "code",
      "execution_count": null,
      "metadata": {
        "id": "YzHqtWwp7r3Y"
      },
      "outputs": [],
      "source": []
    },
    {
      "cell_type": "markdown",
      "source": [
        "#Third Project"
      ],
      "metadata": {
        "id": "X6wnZl1-qq4q"
      }
    },
    {
      "cell_type": "code",
      "source": [
        "#Guess the Number Game (user)\n",
        "#build a guessing game where the computer has to guess the correct number.\n",
        "# You will work with Python's random module, build functions,\n",
        "#work with while loops and conditionals, and get user input.\n",
        "\n",
        "import random\n",
        "\n",
        "print(\"Guess number between 1 to 100\")\n",
        "#generate random number\n",
        "number = random.randint(1, 100)\n",
        "\n",
        "while True:\n",
        "  guess = int(input(\"Enter your Guess Number\"))\n",
        "  if guess < number:\n",
        "    print(\"Number is too Low\")\n",
        "  elif guess > number:\n",
        "    print(\"Number is too High\")\n",
        "  else:\n",
        "    print(\"Congrats!you got Correct number\")\n",
        "    break\n",
        "\n"
      ],
      "metadata": {
        "id": "LaeBOsT5q4Z8",
        "colab": {
          "base_uri": "https://localhost:8080/"
        },
        "outputId": "e7f571de-e59b-4c03-c2c6-5c975af53b74"
      },
      "execution_count": null,
      "outputs": [
        {
          "output_type": "stream",
          "name": "stdout",
          "text": [
            "Guess number between 1 to 100\n",
            "Enter your Guess Number45\n",
            "Number is too Low\n",
            "Enter your Guess Number50\n",
            "Number is too Low\n",
            "Enter your Guess Number70\n",
            "Congrats!you got Correct number\n"
          ]
        }
      ]
    },
    {
      "cell_type": "markdown",
      "source": [
        "#Forth Project"
      ],
      "metadata": {
        "id": "7WHb51Nmh93Q"
      }
    },
    {
      "cell_type": "code",
      "source": [
        "#Rock, paper, scissors\n",
        "#work with random.choice(), if statements, and getting user input.\n",
        "#This is a great project to help you build on the fundamentals like\n",
        "#conditionals and functions.\n",
        "import random\n",
        "\n",
        "#game choices\n",
        "choices = [\"rock\", \"paper\", \"scissors\"]\n",
        "\n",
        "#Player Choice\n",
        "player_choice = input(\"Enter your choice: rock, paper, scissors\").lower()\n",
        "computer_choice = random.choice(choices)\n",
        "\n",
        "#Winner Decistion\n",
        "if(player_choice == computer_choice):\n",
        "  print(\"It is Tie\")\n",
        "elif(player_choice == \"rock\" and computer_choice == \"scissors\"):\n",
        "  print(f\"Plaer win! {player_choice} beats {computer_choice}. \")\n",
        "\n",
        "elif(player_choice == \"paper\" and computer_choice == \"rock\"):\n",
        "  print(f\"player win! {player_choice} beats {computer_choice}.\")\n",
        "\n",
        "elif(player_choice == \"scissors\" and computer_choice == \"paper\"):\n",
        "  print(f\"player win! {player_choice} beats {computer_choice}\")\n",
        "\n",
        "else:\n",
        "  print(f\"Computer Wins! {computer_choice} beats {player_choice}.\")\n",
        "\n",
        "\n"
      ],
      "metadata": {
        "colab": {
          "base_uri": "https://localhost:8080/"
        },
        "id": "2zg3n-G_iFnk",
        "outputId": "40a2576d-dd2e-4c07-974c-1d657ebcf613"
      },
      "execution_count": null,
      "outputs": [
        {
          "output_type": "stream",
          "name": "stdout",
          "text": [
            "Enter your choice: rock, paper, scissorsrock\n",
            "Computer Wins! paper beats rock.\n"
          ]
        }
      ]
    },
    {
      "cell_type": "markdown",
      "source": [
        "#Sixth Project"
      ],
      "metadata": {
        "id": "jFM8WvMLTENY"
      }
    },
    {
      "cell_type": "code",
      "source": [
        "#Countdown Timer\n",
        "#countdown timer using the time Python module. This is a great beginner project\n",
        "# to get you used to working with while loops in Python.\n",
        "import time\n",
        "\n",
        "def countdown_timer(seconds):\n",
        "  while seconds > 0:\n",
        "    mins, secs = divmod(seconds, 60)   #Calculating mins and secs\n",
        "    time_firmat = '{:02d}:{:02d}'.format(mins, secs)\n",
        "    print(time_firmat, end='\\r')\n",
        "    time.sleep(1)      #Delay\n",
        "    seconds -= 1\n",
        "\n",
        "\n",
        "total_seconds = int(input(\"Enter time in seconds for countdown!\"))\n",
        "countdown_timer(total_seconds)\n",
        "\n",
        "print(\"00:00 \\nTimes Up!\")\n",
        "\n"
      ],
      "metadata": {
        "id": "Ub9iIG3qTLmf",
        "colab": {
          "base_uri": "https://localhost:8080/"
        },
        "outputId": "8e4e9cc1-2107-4d54-89dd-969a851bdeec"
      },
      "execution_count": null,
      "outputs": [
        {
          "output_type": "stream",
          "name": "stdout",
          "text": [
            "Enter time in seconds for countdown!2\n",
            "00:00 \n",
            "Times Up!\n"
          ]
        }
      ]
    },
    {
      "cell_type": "markdown",
      "source": [
        "#Seventh Oroject"
      ],
      "metadata": {
        "id": "xv2LnO6oe-KV"
      }
    },
    {
      "cell_type": "code",
      "source": [
        "#Password Generator\n",
        "#random password generator. You will collect data from the user on the number\n",
        "#of passwords and their lengths and output a collection of passwords with\n",
        "#random characters.\n",
        "\n",
        "import random\n",
        "import string\n",
        "\n",
        "def generate_password(lenght):\n",
        "  characters = string.ascii_letters + string.digits + string.punctuation\n",
        "  password = ''.join(random.choice(characters)for _ in range(lenght))\n",
        "  return password\n",
        "\n",
        "lenght = int(input(\"Enter your desired password\"))\n",
        "password = generate_password(lenght)\n",
        "print(\"Enter your desire passwords to generate\", password)"
      ],
      "metadata": {
        "colab": {
          "base_uri": "https://localhost:8080/"
        },
        "id": "st169BL-fDje",
        "outputId": "048472b2-9e96-4783-82b6-bd57ed915001"
      },
      "execution_count": null,
      "outputs": [
        {
          "output_type": "stream",
          "name": "stdout",
          "text": [
            "Enter your desired password2\n",
            "Enter your desire passwords to generate uW\n"
          ]
        }
      ]
    },
    {
      "cell_type": "markdown",
      "source": [
        "#First Project"
      ],
      "metadata": {
        "id": "kf6OPm6e8VQ4"
      }
    },
    {
      "cell_type": "code",
      "source": [
        "#get input from the user, work with f-strings, and see your results printed to the console.\n",
        "\n",
        "name = input(\"What is your Name? \")\n",
        "age = input(\"What is your age?\")\n",
        "print(f\"Hello! {name}, You are {age} years old\")"
      ],
      "metadata": {
        "colab": {
          "base_uri": "https://localhost:8080/"
        },
        "id": "VBdtRHvF-lDS",
        "outputId": "236f8bfd-dd1f-4c96-9fbc-cc1ab7173053"
      },
      "execution_count": null,
      "outputs": [
        {
          "output_type": "stream",
          "name": "stdout",
          "text": [
            "What is your Name? shaloom \n",
            "What is your age?23\n",
            "Hello! shaloom , You are 23 years old\n"
          ]
        }
      ]
    },
    {
      "cell_type": "code",
      "source": [],
      "metadata": {
        "id": "PW2M2KZv8oru"
      },
      "execution_count": null,
      "outputs": []
    },
    {
      "cell_type": "markdown",
      "source": [
        "\n",
        "#Sec Project\n"
      ],
      "metadata": {
        "id": "y4Cy23Y3N-u_"
      }
    },
    {
      "cell_type": "code",
      "source": [
        "#Guess the Number Game\n",
        "#work with Python's random module, build functions,\n",
        "#work with while loops and conditionals, and get user input.\n",
        "\n",
        "import random\n",
        "\n",
        "def guessing_game():\n",
        "  \"\"\"Plays a number guessing game with the user.\"\"\"\n",
        "\n",
        "  original_number = random.randint(1, 100)\n",
        "  guesses_left = 7\n",
        "\n",
        "  print(\"Welcome to the Number Guessing Game!\")\n",
        "  print(\"I'm thinking of a number between 1 and 100.\")\n",
        "\n",
        "  while guesses_left > 0:\n",
        "    print(f\"\\nYou have {guesses_left} guesses left.\")\n",
        "    try:\n",
        "      guess = int(input(\"Take a guess: \"))\n",
        "    except ValueError:\n",
        "      print(\"Invalid input. Please enter a number.\")\n",
        "      continue\n",
        "\n",
        "    if guess < original_number:\n",
        "      print(\"Guess is Too Low Try again\")\n",
        "    elif guess > original_number:\n",
        "      print(\"Guess is Too High Try again\")\n",
        "    else:\n",
        "      print(f\"Congratulations! You guessed the number in {7 - guesses_left +1} tries!\")\n",
        "      return\n",
        "\n",
        "    guesses_left -= 1\n",
        "\n",
        "  print(f\"\\nYou ran out of guesses. The number was {original_number}.\")\n",
        "\n",
        "guessing_game()"
      ],
      "metadata": {
        "colab": {
          "base_uri": "https://localhost:8080/"
        },
        "id": "LeI0ReviODKb",
        "outputId": "98debf93-1424-4f72-ef1e-e7265afd5949"
      },
      "execution_count": null,
      "outputs": [
        {
          "output_type": "stream",
          "name": "stdout",
          "text": [
            "Welcome to the Number Guessing Game!\n",
            "I'm thinking of a number between 1 and 100.\n",
            "\n",
            "You have 7 guesses left.\n",
            "Take a guess: 30\n",
            "Guess is Too High Try again\n",
            "\n",
            "You have 6 guesses left.\n",
            "Take a guess: 20\n",
            "Guess is Too High Try again\n",
            "\n",
            "You have 5 guesses left.\n",
            "Take a guess: 10\n",
            "Guess is Too High Try again\n",
            "\n",
            "You have 4 guesses left.\n",
            "Take a guess: 5\n",
            "Guess is Too High Try again\n",
            "\n",
            "You have 3 guesses left.\n",
            "Take a guess: 2\n",
            "Congratulations! You guessed the number in 5 tries!\n"
          ]
        }
      ]
    }
  ]
}